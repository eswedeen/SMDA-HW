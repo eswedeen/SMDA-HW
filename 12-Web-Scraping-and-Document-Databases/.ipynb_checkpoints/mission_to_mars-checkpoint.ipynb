{
 "cells": [
  {
   "cell_type": "markdown",
   "metadata": {},
   "source": [
    "# mission_to_mars"
   ]
  },
  {
   "cell_type": "code",
   "execution_count": 11,
   "metadata": {},
   "outputs": [],
   "source": [
    "#Dependencies\n",
    "from bs4 import BeautifulSoup\n",
    "from splinter import Browser\n",
    "import requests\n",
    "import pandas as pd\n",
    "import pymongo"
   ]
  },
  {
   "cell_type": "code",
   "execution_count": 12,
   "metadata": {},
   "outputs": [],
   "source": [
    "#Initialize PyMongo to work with MongoDB\n",
    "conn = 'mongodb://localhost:27017'\n",
    "client = pymongo.MongoClient(conn)"
   ]
  },
  {
   "cell_type": "markdown",
   "metadata": {},
   "source": [
    "### NASA Mars News\n",
    "\n",
    "\n"
   ]
  },
  {
   "cell_type": "code",
   "execution_count": 13,
   "metadata": {},
   "outputs": [],
   "source": [
    "news_url=\"https://mars.nasa.gov/news/\"\n",
    "\n",
    "# Retrieve page with the requests module\n",
    "response = requests.get(news_url)\n",
    "\n",
    "# Create BeautifulSoup object; parse with 'html.parser'\n",
    "soup = BeautifulSoup(response.text, 'html.parser')"
   ]
  },
  {
   "cell_type": "code",
   "execution_count": 15,
   "metadata": {},
   "outputs": [
    {
     "name": "stdout",
     "output_type": "stream",
     "text": [
      "-----------------\n",
      "\n",
      "NASA's Opportunity Rover Mission on Mars Comes to End\n",
      "\n",
      "Scraping Complete\n"
     ]
    }
   ],
   "source": [
    "content_title = soup.find(\"div\", class_=\"content_title\")\n",
    "news_title=content_title.find('a').text\n",
    "\n",
    "print(\"-----------------\")\n",
    "print(news_title)\n",
    "print(\"Scraping Complete\")"
   ]
  },
  {
   "cell_type": "markdown",
   "metadata": {},
   "source": [
    "### JPL Mars Space Images - Featured Image"
   ]
  },
  {
   "cell_type": "code",
   "execution_count": 16,
   "metadata": {},
   "outputs": [
    {
     "name": "stdout",
     "output_type": "stream",
     "text": [
      "-----------------\n",
      "featured_image_link\n",
      "https://www.jpl.nasa.gov/spaceimages/images/largesize/PIA23047_hires.jpg\n",
      "Scraping Complete\n"
     ]
    }
   ],
   "source": [
    "jpl_url = \"https://www.jpl.nasa.gov/spaceimages/?search=&category=Mars\"\n",
    "\n",
    "browser = Browser('chrome')\n",
    "\n",
    "#visit site\n",
    "browser.visit(jpl_url)\n",
    "\n",
    "# HTML object\n",
    "html = browser.html\n",
    "\n",
    "# Parse HTML with Beautiful Soup\n",
    "soup = BeautifulSoup(html, 'html.parser')\n",
    "\n",
    "articles =soup.find('ul', class_='articles')\n",
    "fancybox = articles.find('a', class_='fancybox')\n",
    "href = fancybox['data-fancybox-href']\n",
    "featured_image_link = \"https://www.jpl.nasa.gov\" + href\n",
    "\n",
    "browser.visit(featured_image_link)\n",
    "\n",
    "print(\"-----------------\")\n",
    "print(\"featured_image_link\")\n",
    "print(featured_image_link)\n",
    "print(\"Scraping Complete\")"
   ]
  },
  {
   "cell_type": "markdown",
   "metadata": {},
   "source": [
    "### Mars Weather"
   ]
  },
  {
   "cell_type": "code",
   "execution_count": 25,
   "metadata": {},
   "outputs": [
    {
     "name": "stdout",
     "output_type": "stream",
     "text": [
      "-----------------\n",
      "weather_text\n",
      "\n",
      "InSight sol 84 (2019-02-20) low -95.1ºC (-139.2ºF) high -13.2ºC (8.3ºF)\n",
      "winds from the SW at 4.1 m/s (9.3 mph) gusting to 10.8 m/s (24.2 mph)pic.twitter.com/WlR4gr8gpC\n",
      "\n",
      "Scraping Complete\n"
     ]
    }
   ],
   "source": [
    "weather_url=\"https://twitter.com/marswxreport?lang=en\"\n",
    "\n",
    "# Retrieve page with the requests module\n",
    "response = requests.get(weather_url)\n",
    "\n",
    "# Create BeautifulSoup object; parse with 'html.parser'\n",
    "soup = BeautifulSoup(response.text, 'html.parser')\n",
    "\n",
    "#find the weather description paragraph \n",
    "weather_text = soup.find('p', class_=\"TweetTextSize\").text\n",
    "\n",
    "\n",
    "print(\"-----------------\")\n",
    "print(\"weather_text\\n\")\n",
    "print(weather_text)\n",
    "print(\"\\nScraping Complete\")"
   ]
  },
  {
   "cell_type": "markdown",
   "metadata": {},
   "source": [
    "### Mars Facts"
   ]
  },
  {
   "cell_type": "code",
   "execution_count": 30,
   "metadata": {},
   "outputs": [],
   "source": [
    "facts_url=\"https://space-facts.com/mars/\"\n",
    "\n",
    "# Retrieve page with the requests module\n",
    "response = requests.get(facts_url)\n",
    "\n",
    "# Create BeautifulSoup object; parse with 'html.parser'\n",
    "soup = BeautifulSoup(response.text, 'html.parser')"
   ]
  },
  {
   "cell_type": "code",
   "execution_count": 34,
   "metadata": {},
   "outputs": [
    {
     "data": {
      "text/plain": [
       "{'Equatorial Diameter:': '6,792 km\\n',\n",
       " 'Polar Diameter:': '6,752 km\\n',\n",
       " 'Mass:': '6.42 x 10^23 kg (10.7% Earth)',\n",
       " 'Moons:': '2 (Phobos & Deimos)',\n",
       " 'Orbit Distance:': '227,943,824 km (1.52 AU)',\n",
       " 'Orbit Period:': '687 days (1.9 years)\\n',\n",
       " 'Surface Temperature: ': '-153 to 20 °C',\n",
       " 'First Record:': '2nd millennium BC',\n",
       " 'Recorded By:': 'Egyptian astronomers'}"
      ]
     },
     "execution_count": 34,
     "metadata": {},
     "output_type": "execute_result"
    }
   ],
   "source": [
    "fact_keys=[]\n",
    "fact_values=[]\n",
    "facts_dict={}\n",
    "\n",
    "fact_keys=soup.find_all(\"td\", class_=\"column-1\")\n",
    "fact_values=soup.find_all(\"td\", class_=\"column-2\")\n",
    "\n",
    "for i in range(len(fact_values)):\n",
    "    facts_dict[fact_keys[i].text] = fact_values[i].text\n",
    "\n",
    "facts_dict"
   ]
  },
  {
   "cell_type": "markdown",
   "metadata": {},
   "source": [
    "### Mars Hemispheres "
   ]
  },
  {
   "cell_type": "code",
   "execution_count": 10,
   "metadata": {},
   "outputs": [
    {
     "name": "stdout",
     "output_type": "stream",
     "text": [
      "-----------\n",
      "Cerberus Hemisphere Enhanced\n",
      "https://astrogeology.usgs.gov/search/map/Mars/Viking/cerberus_enhanced\n",
      "http://astropedia.astrogeology.usgs.gov/download/Mars/Viking/cerberus_enhanced.tif/full.jpg\n",
      "-----------\n",
      "Schiaparelli Hemisphere Enhanced\n",
      "https://astrogeology.usgs.gov/search/map/Mars/Viking/schiaparelli_enhanced\n",
      "http://astropedia.astrogeology.usgs.gov/download/Mars/Viking/schiaparelli_enhanced.tif/full.jpg\n",
      "-----------\n",
      "Syrtis Major Hemisphere Enhanced\n",
      "https://astrogeology.usgs.gov/search/map/Mars/Viking/syrtis_major_enhanced\n",
      "http://astropedia.astrogeology.usgs.gov/download/Mars/Viking/syrtis_major_enhanced.tif/full.jpg\n",
      "-----------\n",
      "Valles Marineris Hemisphere Enhanced\n",
      "https://astrogeology.usgs.gov/search/map/Mars/Viking/valles_marineris_enhanced\n",
      "http://astropedia.astrogeology.usgs.gov/download/Mars/Viking/valles_marineris_enhanced.tif/full.jpg\n",
      "Scraping Complete\n"
     ]
    }
   ],
   "source": [
    "hemispheres_url=\"https://astrogeology.usgs.gov/search/results?q=hemisphere+enhanced&k1=target&v1=Mars\"\n",
    "\n",
    "hemisphere_titles=[]\n",
    "hemisphere_image_urls=[]\n",
    "\n",
    "browser=Browser('chrome')\n",
    "\n",
    "#visit website for hemispheres\n",
    "browser.visit(hemispheres_url)\n",
    "\n",
    "# HTML object\n",
    "html = browser.html\n",
    "# Parse HTML with Beautiful Soup\n",
    "soup = BeautifulSoup(html, 'html.parser')\n",
    "# Retrieve all elements that contain book information\n",
    "hemispheres = soup.find_all('div', class_='item')\n",
    "\n",
    "# Iterate through each hemisphere \"item\"\n",
    "for hemisphere in hemispheres:\n",
    "    # Use Beautiful Soup's find() method to navigate and retrieve \"Title\" and link to next page (link2)\n",
    "    description = hemisphere.find('div', class_='description')\n",
    "    link = description.find('a')\n",
    "    href = link['href']\n",
    "    title = link.find('h3').text\n",
    "    \n",
    "    #create second link, navigate to, and create new BeautifulSoup object\n",
    "    link2 = \"https://astrogeology.usgs.gov\" + href\n",
    "    response2 = requests.get(link2)\n",
    "    browser.visit(link2)\n",
    "    soup2 = BeautifulSoup(response2.text, 'html.parser')\n",
    "    \n",
    "    #Retreive \"img_url\"\n",
    "    downloads = soup2.find('div', class_='downloads')\n",
    "    a = downloads.find('a')\n",
    "    img_url = a['href']\n",
    "    \n",
    "    #Append Lists with title and img_url\n",
    "    hemisphere_titles.append(title)\n",
    "    hemisphere_image_urls.append(img_url)\n",
    "    \n",
    "    #Visit the \"img_url\" for the funz\n",
    "    browser.visit(img_url)\n",
    "    \n",
    "    print('-----------')\n",
    "    print(title)\n",
    "    print(link2)\n",
    "    print(img_url)\n",
    "    \n",
    "print(\"Scraping Complete\") "
   ]
  },
  {
   "cell_type": "markdown",
   "metadata": {},
   "source": [
    "### Step 2 - MongoDB and Flask Application"
   ]
  },
  {
   "cell_type": "code",
   "execution_count": null,
   "metadata": {},
   "outputs": [],
   "source": []
  }
 ],
 "metadata": {
  "kernelspec": {
   "display_name": "Python 3",
   "language": "python",
   "name": "python3"
  },
  "language_info": {
   "codemirror_mode": {
    "name": "ipython",
    "version": 3
   },
   "file_extension": ".py",
   "mimetype": "text/x-python",
   "name": "python",
   "nbconvert_exporter": "python",
   "pygments_lexer": "ipython3",
   "version": "3.7.0"
  }
 },
 "nbformat": 4,
 "nbformat_minor": 2
}
